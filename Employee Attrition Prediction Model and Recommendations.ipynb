{
 "cells": [
  {
   "cell_type": "code",
   "execution_count": 1,
   "id": "e79c46c9",
   "metadata": {},
   "outputs": [],
   "source": [
    "import pandas as pd\n",
    "import numpy as np\n",
    "import matplotlib.pyplot as plt\n",
    "import seaborn as sns\n",
    "from sklearn.model_selection import train_test_split\n"
   ]
  },
  {
   "cell_type": "code",
   "execution_count": 17,
   "id": "09b51c63",
   "metadata": {},
   "outputs": [],
   "source": [
    "x=pd.read_csv('scaled_x_data.csv')\n",
    "y=pd.read_csv('y_data.csv')"
   ]
  },
  {
   "cell_type": "markdown",
   "id": "36a69506",
   "metadata": {},
   "source": [
    "#Data Splitting: Since the dataset is limited in size., an 80/20 split would be reasonable "
   ]
  },
  {
   "cell_type": "code",
   "execution_count": null,
   "id": "269c2a01",
   "metadata": {},
   "outputs": [],
   "source": [
    "##############################"
   ]
  },
  {
   "cell_type": "code",
   "execution_count": null,
   "id": "5df1eede",
   "metadata": {},
   "outputs": [],
   "source": []
  },
  {
   "cell_type": "code",
   "execution_count": 77,
   "id": "7317b90b",
   "metadata": {},
   "outputs": [],
   "source": [
    "x_train, x_test, y_train, y_test = train_test_split(x, y, test_size=0.2, random_state=42)"
   ]
  },
  {
   "cell_type": "code",
   "execution_count": 32,
   "id": "26082963",
   "metadata": {},
   "outputs": [],
   "source": [
    "#Model Selection: Choose at least two different predictive models "
   ]
  },
  {
   "cell_type": "markdown",
   "id": "4394054c",
   "metadata": {},
   "source": [
    "=>binary classification tasks:\n",
    "Logistic Regression: \n",
    "Random Forest:\n",
    "Gradient Boosting: \n",
    "Support Vector Machines (SVM): \n",
    "Naive Bayes: \n",
    "K-Nearest Neighbors (KNN): \n",
    "Decision Trees:\n",
    "Neural Networks: Deep learning models\n",
    "\n",
    "Random Forest:\n",
    "\n",
    "-Random Forest is an ensemble learning technique that can work well with mixed data types (numeric and non-numeric).\n",
    "It can handle non-linear relationships in the data.\n",
    "Random Forest is less prone to overfitting compared to individual decision trees.\n",
    "It's a versatile and robust model that often provides good out-of-the-box performance.\n",
    "You can handle feature importance analysis easily with Random Forest.\n",
    "Gradient Boosting (e.g., XGBoost or LightGBM):\n",
    "\n",
    "-Gradient boosting methods like XGBoost and LightGBM are powerful ensemble techniques that can handle non-linearity and mixed data types.\n",
    "They are often among the top performers in data science competitions.\n",
    "These models can be fine-tuned to find the best model parameters for your specific dataset.\n",
    "Gradient boosting models are robust and can handle small to medium-sized datasets effectively.\n",
    "\n",
    "*\n",
    "In this particular case, Logistic Regression, Decision Trees, Naive Bayes, and K-Nearest Neighbors (KNN) might not be the best options for binary classification due to the following reasons:\n",
    "\n",
    "Logistic Regression:\n",
    "\n",
    "Logistic Regression assumes linear relationships between features and the log-odds of the target variable. It may not perform well when dealing with complex, non-linear relationships among your 25 features, especially if many of them are non-linear.\n",
    "Decision Trees:\n",
    "\n",
    "Decision Trees can be prone to overfitting when the dataset is small and features are numerous, potentially leading to poor generalization.\n",
    "Naive Bayes:\n",
    "\n",
    "Naive Bayes is a simple probabilistic classifier that assumes feature independence. It may not capture the intricate relationships and dependencies among your features, which can be crucial for accurate classification.\n",
    "K-Nearest Neighbors (KNN):\n",
    "\n",
    "KNN relies on distances between data points, and it can struggle with high-dimensional datasets like the one with 25 features. The curse of dimensionality can lead to inefficiency and reduced performance.\n",
    "\n",
    "Neural Networks:\n",
    "Neural networks are not suitable for this case due to the small dataset size, which can lead to overfitting."
   ]
  },
  {
   "cell_type": "code",
   "execution_count": 33,
   "id": "860175a0",
   "metadata": {},
   "outputs": [],
   "source": [
    "#Model Training: "
   ]
  },
  {
   "cell_type": "code",
   "execution_count": 78,
   "id": "deb9f983",
   "metadata": {},
   "outputs": [
    {
     "name": "stderr",
     "output_type": "stream",
     "text": [
      "C:\\Users\\hanen\\AppData\\Local\\Temp\\ipykernel_10148\\3507488794.py:9: DataConversionWarning: A column-vector y was passed when a 1d array was expected. Please change the shape of y to (n_samples,), for example using ravel().\n",
      "  rf_model.fit(x_train, y_train)\n"
     ]
    },
    {
     "data": {
      "text/html": [
       "<style>#sk-container-id-7 {color: black;background-color: white;}#sk-container-id-7 pre{padding: 0;}#sk-container-id-7 div.sk-toggleable {background-color: white;}#sk-container-id-7 label.sk-toggleable__label {cursor: pointer;display: block;width: 100%;margin-bottom: 0;padding: 0.3em;box-sizing: border-box;text-align: center;}#sk-container-id-7 label.sk-toggleable__label-arrow:before {content: \"▸\";float: left;margin-right: 0.25em;color: #696969;}#sk-container-id-7 label.sk-toggleable__label-arrow:hover:before {color: black;}#sk-container-id-7 div.sk-estimator:hover label.sk-toggleable__label-arrow:before {color: black;}#sk-container-id-7 div.sk-toggleable__content {max-height: 0;max-width: 0;overflow: hidden;text-align: left;background-color: #f0f8ff;}#sk-container-id-7 div.sk-toggleable__content pre {margin: 0.2em;color: black;border-radius: 0.25em;background-color: #f0f8ff;}#sk-container-id-7 input.sk-toggleable__control:checked~div.sk-toggleable__content {max-height: 200px;max-width: 100%;overflow: auto;}#sk-container-id-7 input.sk-toggleable__control:checked~label.sk-toggleable__label-arrow:before {content: \"▾\";}#sk-container-id-7 div.sk-estimator input.sk-toggleable__control:checked~label.sk-toggleable__label {background-color: #d4ebff;}#sk-container-id-7 div.sk-label input.sk-toggleable__control:checked~label.sk-toggleable__label {background-color: #d4ebff;}#sk-container-id-7 input.sk-hidden--visually {border: 0;clip: rect(1px 1px 1px 1px);clip: rect(1px, 1px, 1px, 1px);height: 1px;margin: -1px;overflow: hidden;padding: 0;position: absolute;width: 1px;}#sk-container-id-7 div.sk-estimator {font-family: monospace;background-color: #f0f8ff;border: 1px dotted black;border-radius: 0.25em;box-sizing: border-box;margin-bottom: 0.5em;}#sk-container-id-7 div.sk-estimator:hover {background-color: #d4ebff;}#sk-container-id-7 div.sk-parallel-item::after {content: \"\";width: 100%;border-bottom: 1px solid gray;flex-grow: 1;}#sk-container-id-7 div.sk-label:hover label.sk-toggleable__label {background-color: #d4ebff;}#sk-container-id-7 div.sk-serial::before {content: \"\";position: absolute;border-left: 1px solid gray;box-sizing: border-box;top: 0;bottom: 0;left: 50%;z-index: 0;}#sk-container-id-7 div.sk-serial {display: flex;flex-direction: column;align-items: center;background-color: white;padding-right: 0.2em;padding-left: 0.2em;position: relative;}#sk-container-id-7 div.sk-item {position: relative;z-index: 1;}#sk-container-id-7 div.sk-parallel {display: flex;align-items: stretch;justify-content: center;background-color: white;position: relative;}#sk-container-id-7 div.sk-item::before, #sk-container-id-7 div.sk-parallel-item::before {content: \"\";position: absolute;border-left: 1px solid gray;box-sizing: border-box;top: 0;bottom: 0;left: 50%;z-index: -1;}#sk-container-id-7 div.sk-parallel-item {display: flex;flex-direction: column;z-index: 1;position: relative;background-color: white;}#sk-container-id-7 div.sk-parallel-item:first-child::after {align-self: flex-end;width: 50%;}#sk-container-id-7 div.sk-parallel-item:last-child::after {align-self: flex-start;width: 50%;}#sk-container-id-7 div.sk-parallel-item:only-child::after {width: 0;}#sk-container-id-7 div.sk-dashed-wrapped {border: 1px dashed gray;margin: 0 0.4em 0.5em 0.4em;box-sizing: border-box;padding-bottom: 0.4em;background-color: white;}#sk-container-id-7 div.sk-label label {font-family: monospace;font-weight: bold;display: inline-block;line-height: 1.2em;}#sk-container-id-7 div.sk-label-container {text-align: center;}#sk-container-id-7 div.sk-container {/* jupyter's `normalize.less` sets `[hidden] { display: none; }` but bootstrap.min.css set `[hidden] { display: none !important; }` so we also need the `!important` here to be able to override the default hidden behavior on the sphinx rendered scikit-learn.org. See: https://github.com/scikit-learn/scikit-learn/issues/21755 */display: inline-block !important;position: relative;}#sk-container-id-7 div.sk-text-repr-fallback {display: none;}</style><div id=\"sk-container-id-7\" class=\"sk-top-container\"><div class=\"sk-text-repr-fallback\"><pre>XGBClassifier(base_score=None, booster=None, callbacks=None,\n",
       "              colsample_bylevel=None, colsample_bynode=None,\n",
       "              colsample_bytree=None, early_stopping_rounds=None,\n",
       "              enable_categorical=False, eval_metric=None, feature_types=None,\n",
       "              gamma=None, gpu_id=None, grow_policy=None, importance_type=None,\n",
       "              interaction_constraints=None, learning_rate=None, max_bin=None,\n",
       "              max_cat_threshold=None, max_cat_to_onehot=None,\n",
       "              max_delta_step=None, max_depth=None, max_leaves=None,\n",
       "              min_child_weight=None, missing=nan, monotone_constraints=None,\n",
       "              n_estimators=100, n_jobs=None, num_parallel_tree=None,\n",
       "              predictor=None, random_state=42, ...)</pre><b>In a Jupyter environment, please rerun this cell to show the HTML representation or trust the notebook. <br />On GitHub, the HTML representation is unable to render, please try loading this page with nbviewer.org.</b></div><div class=\"sk-container\" hidden><div class=\"sk-item\"><div class=\"sk-estimator sk-toggleable\"><input class=\"sk-toggleable__control sk-hidden--visually\" id=\"sk-estimator-id-7\" type=\"checkbox\" checked><label for=\"sk-estimator-id-7\" class=\"sk-toggleable__label sk-toggleable__label-arrow\">XGBClassifier</label><div class=\"sk-toggleable__content\"><pre>XGBClassifier(base_score=None, booster=None, callbacks=None,\n",
       "              colsample_bylevel=None, colsample_bynode=None,\n",
       "              colsample_bytree=None, early_stopping_rounds=None,\n",
       "              enable_categorical=False, eval_metric=None, feature_types=None,\n",
       "              gamma=None, gpu_id=None, grow_policy=None, importance_type=None,\n",
       "              interaction_constraints=None, learning_rate=None, max_bin=None,\n",
       "              max_cat_threshold=None, max_cat_to_onehot=None,\n",
       "              max_delta_step=None, max_depth=None, max_leaves=None,\n",
       "              min_child_weight=None, missing=nan, monotone_constraints=None,\n",
       "              n_estimators=100, n_jobs=None, num_parallel_tree=None,\n",
       "              predictor=None, random_state=42, ...)</pre></div></div></div></div></div>"
      ],
      "text/plain": [
       "XGBClassifier(base_score=None, booster=None, callbacks=None,\n",
       "              colsample_bylevel=None, colsample_bynode=None,\n",
       "              colsample_bytree=None, early_stopping_rounds=None,\n",
       "              enable_categorical=False, eval_metric=None, feature_types=None,\n",
       "              gamma=None, gpu_id=None, grow_policy=None, importance_type=None,\n",
       "              interaction_constraints=None, learning_rate=None, max_bin=None,\n",
       "              max_cat_threshold=None, max_cat_to_onehot=None,\n",
       "              max_delta_step=None, max_depth=None, max_leaves=None,\n",
       "              min_child_weight=None, missing=nan, monotone_constraints=None,\n",
       "              n_estimators=100, n_jobs=None, num_parallel_tree=None,\n",
       "              predictor=None, random_state=42, ...)"
      ]
     },
     "execution_count": 78,
     "metadata": {},
     "output_type": "execute_result"
    }
   ],
   "source": [
    "from sklearn.ensemble import RandomForestClassifier\n",
    "import xgboost as xgb\n",
    "\n",
    "\n",
    "# Create a Random Forest classifier\n",
    "rf_model = RandomForestClassifier(n_estimators=100, random_state=42) \n",
    "\n",
    "# Train the model on the training data\n",
    "rf_model.fit(x_train, y_train)\n",
    "\n",
    "\n",
    "# Create an XGBoost classifier\n",
    "xgb_model = xgb.XGBClassifier(n_estimators=100, random_state=42)  \n",
    "\n",
    "# Train the model on the training data\n",
    "xgb_model.fit(x_train, y_train)\n"
   ]
  },
  {
   "cell_type": "code",
   "execution_count": 35,
   "id": "dbf6723a",
   "metadata": {},
   "outputs": [],
   "source": [
    "#Models Evaluation: "
   ]
  },
  {
   "cell_type": "code",
   "execution_count": 36,
   "id": "f64fd14d",
   "metadata": {},
   "outputs": [],
   "source": [
    "from sklearn.metrics import accuracy_score, precision_score, recall_score, f1_score, roc_auc_score, confusion_matrix\n"
   ]
  },
  {
   "cell_type": "code",
   "execution_count": 79,
   "id": "578158b1",
   "metadata": {},
   "outputs": [
    {
     "name": "stdout",
     "output_type": "stream",
     "text": [
      "Random Forest Metrics:\n",
      "Accuracy: 0.8707482993197279\n",
      "Precision: 0.6\n",
      "Recall: 0.07692307692307693\n",
      "F1-Score: 0.13636363636363635\n",
      "ROC AUC: 0.5345399698340875\n",
      "Confusion Matrix:\n",
      "[[253   2]\n",
      " [ 36   3]]\n"
     ]
    }
   ],
   "source": [
    "# Predictions from Random Forest model\n",
    "rf_predictions = rf_model.predict(x_test)\n",
    "\n",
    "# Calculate evaluation metrics for Random Forest\n",
    "rf_accuracy = accuracy_score(y_test, rf_predictions)\n",
    "rf_precision = precision_score(y_test, rf_predictions)\n",
    "rf_recall = recall_score(y_test, rf_predictions)\n",
    "rf_f1 = f1_score(y_test, rf_predictions)\n",
    "rf_roc_auc = roc_auc_score(y_test, rf_predictions)\n",
    "rf_confusion = confusion_matrix(y_test, rf_predictions)\n",
    "\n",
    "print(\"Random Forest Metrics:\")\n",
    "print(f\"Accuracy: {rf_accuracy}\")\n",
    "print(f\"Precision: {rf_precision}\")\n",
    "print(f\"Recall: {rf_recall}\")\n",
    "print(f\"F1-Score: {rf_f1}\")\n",
    "print(f\"ROC AUC: {rf_roc_auc}\")\n",
    "print(f\"Confusion Matrix:\\n{rf_confusion}\")\n"
   ]
  },
  {
   "cell_type": "code",
   "execution_count": 80,
   "id": "71594e87",
   "metadata": {},
   "outputs": [
    {
     "name": "stdout",
     "output_type": "stream",
     "text": [
      "\n",
      "XGBoost Metrics:\n",
      "Accuracy: 0.8707482993197279\n",
      "Precision: 0.5217391304347826\n",
      "Recall: 0.3076923076923077\n",
      "F1-Score: 0.3870967741935484\n",
      "ROC AUC: 0.6322775263951734\n",
      "Confusion Matrix:\n",
      "[[244  11]\n",
      " [ 27  12]]\n"
     ]
    }
   ],
   "source": [
    "# Predictions from XGBoost model\n",
    "xgb_predictions = xgb_model.predict(x_test)\n",
    "\n",
    "# Calculate evaluation metrics for XGBoost\n",
    "xgb_accuracy = accuracy_score(y_test, xgb_predictions)\n",
    "xgb_precision = precision_score(y_test, xgb_predictions)\n",
    "xgb_recall = recall_score(y_test, xgb_predictions)\n",
    "xgb_f1 = f1_score(y_test, xgb_predictions)\n",
    "xgb_roc_auc = roc_auc_score(y_test, xgb_predictions)\n",
    "xgb_confusion = confusion_matrix(y_test, xgb_predictions)\n",
    "\n",
    "print(\"\\nXGBoost Metrics:\")\n",
    "print(f\"Accuracy: {xgb_accuracy}\")\n",
    "print(f\"Precision: {xgb_precision}\")\n",
    "print(f\"Recall: {xgb_recall}\")\n",
    "print(f\"F1-Score: {xgb_f1}\")\n",
    "print(f\"ROC AUC: {xgb_roc_auc}\")\n",
    "print(f\"Confusion Matrix:\\n{xgb_confusion}\")"
   ]
  },
  {
   "cell_type": "code",
   "execution_count": null,
   "id": "83ae9972",
   "metadata": {},
   "outputs": [],
   "source": [
    "##########\"try dt\""
   ]
  },
  {
   "cell_type": "code",
   "execution_count": 54,
   "id": "3a61fbe8",
   "metadata": {
    "scrolled": true
   },
   "outputs": [
    {
     "name": "stdout",
     "output_type": "stream",
     "text": [
      "Best Decision Tree Hyperparameters: {'max_depth': 10, 'min_samples_leaf': 4, 'min_samples_split': 2}\n",
      "Tuned Decision Tree Metrics:\n",
      "Accuracy: 0.8027210884353742\n",
      "Precision: 0.21212121212121213\n",
      "Recall: 0.1794871794871795\n",
      "F1-Score: 0.19444444444444445\n",
      "ROC AUC: 0.538763197586727\n",
      "Confusion Matrix:\n",
      "[[229  26]\n",
      " [ 32   7]]\n"
     ]
    }
   ],
   "source": [
    "from sklearn.tree import DecisionTreeClassifier\n",
    "from sklearn.model_selection import GridSearchCV\n",
    "from sklearn.metrics import accuracy_score, precision_score, recall_score, f1_score, roc_auc_score, confusion_matrix\n",
    "\n",
    "# Create a Decision Tree classifier\n",
    "dt_model = DecisionTreeClassifier(random_state=42)\n",
    "\n",
    "# Define a grid of hyperparameters to search\n",
    "param_grid_dt = {\n",
    "    'max_depth': [None, 5, 10, 20],   # Vary the maximum depth of the tree\n",
    "    'min_samples_split': [2, 5, 10],  # Vary the minimum samples required to split a node\n",
    "    'min_samples_leaf': [1, 2, 4]  # Vary the minimum samples required for a leaf node\n",
    "}\n",
    "\n",
    "# Perform grid search with cross-validation\n",
    "grid_search_dt = GridSearchCV(dt_model, param_grid_dt, cv=5, scoring='recall', n_jobs=-1)\n",
    "\n",
    "# Fit the grid search to the data\n",
    "grid_search_dt.fit(x_train, y_train)\n",
    "\n",
    "# Get the best hyperparameters\n",
    "best_params_dt = grid_search_dt.best_params_\n",
    "best_dt_model = grid_search_dt.best_estimator_\n",
    "\n",
    "# Train the best model on the training data\n",
    "best_dt_model.fit(x_train, y_train)\n",
    "\n",
    "# Make predictions and evaluate the best Decision Tree model\n",
    "dt_predictions_tuned = best_dt_model.predict(x_test)\n",
    "\n",
    "# Calculate evaluation metrics for the tuned Decision Tree\n",
    "dt_accuracy_tuned = accuracy_score(y_test, dt_predictions_tuned)\n",
    "dt_precision_tuned = precision_score(y_test, dt_predictions_tuned)\n",
    "dt_recall_tuned = recall_score(y_test, dt_predictions_tuned)\n",
    "dt_f1_tuned = f1_score(y_test, dt_predictions_tuned)\n",
    "dt_roc_auc_tuned = roc_auc_score(y_test, dt_predictions_tuned)\n",
    "dt_confusion_tuned = confusion_matrix(y_test, dt_predictions_tuned)\n",
    "\n",
    "# Print or use the metrics as needed\n",
    "print(f\"Best Decision Tree Hyperparameters: {best_params_dt}\")\n",
    "print(\"Tuned Decision Tree Metrics:\")\n",
    "print(f\"Accuracy: {dt_accuracy_tuned}\")\n",
    "print(f\"Precision: {dt_precision_tuned}\")\n",
    "print(f\"Recall: {dt_recall_tuned}\")\n",
    "print(f\"F1-Score: {dt_f1_tuned}\")\n",
    "print(f\"ROC AUC: {dt_roc_auc_tuned}\")\n",
    "print(f\"Confusion Matrix:\\n{dt_confusion_tuned}\")\n"
   ]
  },
  {
   "cell_type": "code",
   "execution_count": null,
   "id": "d39aa9ab",
   "metadata": {},
   "outputs": [],
   "source": [
    "#Hyperparameter Tuning: "
   ]
  },
  {
   "cell_type": "code",
   "execution_count": 63,
   "id": "00451aa8",
   "metadata": {},
   "outputs": [
    {
     "name": "stderr",
     "output_type": "stream",
     "text": [
      "C:\\Users\\hanen\\Desktop\\PYTHON_PROJECT\\studysession\\Lib\\site-packages\\sklearn\\model_selection\\_search.py:909: DataConversionWarning: A column-vector y was passed when a 1d array was expected. Please change the shape of y to (n_samples,), for example using ravel().\n",
      "  self.best_estimator_.fit(X, y, **fit_params)\n",
      "C:\\Users\\hanen\\AppData\\Local\\Temp\\ipykernel_10148\\4209906572.py:22: DataConversionWarning: A column-vector y was passed when a 1d array was expected. Please change the shape of y to (n_samples,), for example using ravel().\n",
      "  best_rf_model.fit(x_train, y_train)\n"
     ]
    }
   ],
   "source": [
    "from sklearn.model_selection import GridSearchCV\n",
    "\n",
    "# Define a grid of hyperparameters to search\n",
    "param_grid_rf = {\n",
    "    'n_estimators': [3, 5, 10, 20, 30],  # Vary the number of trees\n",
    "    'max_depth': [None, 5, 10, 20],   # Vary the maximum depth of trees\n",
    "    'min_samples_split': [1, 2, 5, 10],  # Vary the minimum samples required to split a node\n",
    "    'min_samples_leaf': [1, 2, 4]  # Vary the minimum samples required for a leaf node\n",
    "}\n",
    "\n",
    "# Perform grid search with cross-validation\n",
    "grid_search_rf = GridSearchCV(rf_model, param_grid_rf, cv=5, scoring='recall', n_jobs=-1)\n",
    "\n",
    "# Fit the grid search to the data\n",
    "grid_search_rf.fit(x_train, y_train)\n",
    "\n",
    "# Get the best hyperparameters\n",
    "best_params_rf = grid_search_rf.best_params_\n",
    "best_rf_model = grid_search_rf.best_estimator_\n",
    "\n",
    "# Train the best model on the training data\n",
    "best_rf_model.fit(x_train, y_train)\n",
    "\n",
    "# Make predictions and evaluate the best model\n",
    "rf_predictions_tuned = best_rf_model.predict(x_test)\n"
   ]
  },
  {
   "cell_type": "code",
   "execution_count": 64,
   "id": "a5fb7fce",
   "metadata": {},
   "outputs": [
    {
     "name": "stdout",
     "output_type": "stream",
     "text": [
      " best_params_rf: {'max_depth': None, 'min_samples_leaf': 1, 'min_samples_split': 10, 'n_estimators': 3} \n",
      "Tuned Random Forest Metrics:\n",
      "Accuracy: 0.826530612244898\n",
      "Precision: 0.2\n",
      "Recall: 0.10256410256410256\n",
      "F1-Score: 0.13559322033898302\n",
      "ROC AUC: 0.5199095022624435\n",
      "Confusion Matrix:\n",
      "[[239  16]\n",
      " [ 35   4]]\n"
     ]
    }
   ],
   "source": [
    "# Predictions from tuned Random Forest model\n",
    "rf_predictions_tuned = best_rf_model.predict(x_test)\n",
    "\n",
    "# Calculate evaluation metrics for tuned Random Forest\n",
    "rf_accuracy_tuned = accuracy_score(y_test, rf_predictions_tuned)\n",
    "rf_precision_tuned = precision_score(y_test, rf_predictions_tuned)\n",
    "rf_recall_tuned = recall_score(y_test, rf_predictions_tuned)\n",
    "rf_f1_tuned = f1_score(y_test, rf_predictions_tuned)\n",
    "rf_roc_auc_tuned = roc_auc_score(y_test, rf_predictions_tuned)\n",
    "rf_confusion_tuned = confusion_matrix(y_test, rf_predictions_tuned)\n",
    "\n",
    "# Print or use the metrics as needed\n",
    "print(f\" best_params_rf: {best_params_rf} \")\n",
    "print(\"Tuned Random Forest Metrics:\")\n",
    "print(f\"Accuracy: {rf_accuracy_tuned}\")\n",
    "print(f\"Precision: {rf_precision_tuned}\")\n",
    "print(f\"Recall: {rf_recall_tuned}\")\n",
    "print(f\"F1-Score: {rf_f1_tuned}\")\n",
    "print(f\"ROC AUC: {rf_roc_auc_tuned}\")\n",
    "print(f\"Confusion Matrix:\\n{rf_confusion_tuned}\")\n"
   ]
  },
  {
   "cell_type": "code",
   "execution_count": 51,
   "id": "9ea7fdd9",
   "metadata": {},
   "outputs": [
    {
     "name": "stdout",
     "output_type": "stream",
     "text": [
      " best_params_rf: {'max_depth': None, 'min_samples_leaf': 1, 'min_samples_split': 10, 'n_estimators': 3} \n",
      "Tuned Random Forest Metrics:\n",
      "Accuracy: 0.826530612244898\n",
      "Precision: 0.2\n",
      "Recall: 0.10256410256410256\n",
      "F1-Score: 0.13559322033898302\n",
      "ROC AUC: 0.5199095022624435\n",
      "Confusion Matrix:\n",
      "[[239  16]\n",
      " [ 35   4]]\n"
     ]
    }
   ],
   "source": [
    "# Predictions from tuned Random Forest model\n",
    "rf_predictions_tuned = best_rf_model.predict(x_test)\n",
    "\n",
    "# Calculate evaluation metrics for tuned Random Forest\n",
    "rf_accuracy_tuned = accuracy_score(y_test, rf_predictions_tuned)\n",
    "rf_precision_tuned = precision_score(y_test, rf_predictions_tuned)\n",
    "rf_recall_tuned = recall_score(y_test, rf_predictions_tuned)\n",
    "rf_f1_tuned = f1_score(y_test, rf_predictions_tuned)\n",
    "rf_roc_auc_tuned = roc_auc_score(y_test, rf_predictions_tuned)\n",
    "rf_confusion_tuned = confusion_matrix(y_test, rf_predictions_tuned)\n",
    "\n",
    "# Print or use the metrics as needed\n",
    "print(f\" best_params_rf: {best_params_rf} \")\n",
    "print(\"Tuned Random Forest Metrics:\")\n",
    "print(f\"Accuracy: {rf_accuracy_tuned}\")\n",
    "print(f\"Precision: {rf_precision_tuned}\")\n",
    "print(f\"Recall: {rf_recall_tuned}\")\n",
    "print(f\"F1-Score: {rf_f1_tuned}\")\n",
    "print(f\"ROC AUC: {rf_roc_auc_tuned}\")\n",
    "print(f\"Confusion Matrix:\\n{rf_confusion_tuned}\")\n"
   ]
  },
  {
   "cell_type": "code",
   "execution_count": null,
   "id": "dffa3dda",
   "metadata": {
    "scrolled": true
   },
   "outputs": [],
   "source": []
  },
  {
   "cell_type": "code",
   "execution_count": 61,
   "id": "9f66465b",
   "metadata": {},
   "outputs": [],
   "source": [
    "# Define a grid of hyperparameters for XGBoost\n",
    "param_grid_xgb = {\n",
    "    'n_estimators': [50, 100, 200],\n",
    "    'max_depth': [3, 4, 5,10, 20],\n",
    "    'learning_rate': [0.01, 0.1, 0.2],\n",
    "    'min_child_weight': [1, 2, 3]\n",
    "}\n",
    "\n",
    "\n",
    "# Perform grid search with cross-validation\n",
    "grid_search_xgb = GridSearchCV(xgb_model, param_grid_xgb, cv=5, scoring='recall', n_jobs=-1)\n",
    "\n",
    "# Fit the grid search to the data\n",
    "grid_search_xgb.fit(x_train, y_train)\n",
    "\n",
    "# Get the best hyperparameters\n",
    "best_params_xgb = grid_search_xgb.best_params_\n",
    "best_xgb_model = grid_search_xgb.best_estimator_\n",
    "\n",
    "# Train the best model on the training data\n",
    "best_xgb_model.fit(x_train, y_train)\n",
    "\n",
    "# Make predictions and evaluate the best model\n",
    "xgb_predictions_tuned = best_xgb_model.predict(x_test)\n"
   ]
  },
  {
   "cell_type": "code",
   "execution_count": 62,
   "id": "3ba9d39b",
   "metadata": {
    "scrolled": true
   },
   "outputs": [
    {
     "name": "stdout",
     "output_type": "stream",
     "text": [
      " best_params_rf: {'learning_rate': 0.2, 'max_depth': 3, 'min_child_weight': 2, 'n_estimators': 200} \n",
      "Tuned XGBoost Metrics:\n",
      "Accuracy: 0.891156462585034\n",
      "Precision: 0.6521739130434783\n",
      "Recall: 0.38461538461538464\n",
      "F1-Score: 0.4838709677419355\n",
      "ROC AUC: 0.6766214177978883\n",
      "Confusion Matrix:\n",
      "[[247   8]\n",
      " [ 24  15]]\n"
     ]
    }
   ],
   "source": [
    "# Predictions from tuned XGBoost model\n",
    "xgb_predictions_tuned = best_xgb_model.predict(x_test)\n",
    "\n",
    "# Calculate evaluation metrics for tuned XGBoost\n",
    "xgb_accuracy_tuned = accuracy_score(y_test, xgb_predictions_tuned)\n",
    "xgb_precision_tuned = precision_score(y_test, xgb_predictions_tuned)\n",
    "xgb_recall_tuned = recall_score(y_test, xgb_predictions_tuned)\n",
    "xgb_f1_tuned = f1_score(y_test, xgb_predictions_tuned)\n",
    "xgb_roc_auc_tuned = roc_auc_score(y_test, xgb_predictions_tuned)\n",
    "xgb_confusion_tuned = confusion_matrix(y_test, xgb_predictions_tuned)\n",
    "\n",
    "# Print or use the metrics as needed\n",
    "print(f\" best_params_rf: {best_params_xgb} \")\n",
    "print(\"Tuned XGBoost Metrics:\")\n",
    "print(f\"Accuracy: {xgb_accuracy_tuned}\")\n",
    "print(f\"Precision: {xgb_precision_tuned}\")\n",
    "print(f\"Recall: {xgb_recall_tuned}\")\n",
    "print(f\"F1-Score: {xgb_f1_tuned}\")\n",
    "print(f\"ROC AUC: {xgb_roc_auc_tuned}\")\n",
    "print(f\"Confusion Matrix:\\n{xgb_confusion_tuned}\")\n"
   ]
  },
  {
   "cell_type": "code",
   "execution_count": null,
   "id": "ad2790a7",
   "metadata": {},
   "outputs": [],
   "source": [
    "################################\"\""
   ]
  },
  {
   "cell_type": "code",
   "execution_count": 14,
   "id": "f522bad1",
   "metadata": {},
   "outputs": [
    {
     "name": "stdout",
     "output_type": "stream",
     "text": [
      "MonthlyIncome: 0.08365546369407996\n",
      "OverTime: 0.0723162476355295\n",
      "TotalWorkingYears: 0.05371278021425624\n",
      "Age: 0.053390770158835615\n",
      "DailyRate: 0.048242772613116346\n",
      "DistanceFromHome: 0.04501130982645854\n",
      "EmployeeNumber: 0.04403694694149688\n",
      "HourlyRate: 0.04388799498364391\n",
      "MonthlyRate: 0.04378744169606877\n",
      "YearsAtCompany: 0.042056188185371\n",
      "NumCompaniesWorked: 0.03563012542001419\n",
      "StockOptionLevel: 0.03439277152692858\n",
      "YearsWithCurrManager: 0.034289385295640656\n",
      "YearsSinceLastPromotion: 0.029821478303148994\n",
      "PercentSalaryHike: 0.029074614781332917\n",
      "YearsInCurrentRole: 0.02744493883410032\n",
      "JobLevel: 0.02742466065438033\n",
      "TrainingTimesLastYear: 0.02704900798359375\n",
      "JobInvolvement: 0.02508233738136721\n",
      "JobRole: 0.02315957995602652\n",
      "MaritalStatus: 0.02257130941048914\n",
      "JobSatisfaction: 0.02184017292107933\n",
      "BusinessTravel: 0.021465981772020627\n",
      "EducationField: 0.02093705637247349\n",
      "EnvironmentSatisfaction: 0.02047447485995504\n",
      "WorkLifeBalance: 0.016891381588938992\n",
      "RelationshipSatisfaction: 0.016230682227156477\n",
      "Education: 0.015422465627558163\n",
      "Department: 0.01157073313142905\n",
      "Gender: 0.006067284456941328\n",
      "PerformanceRating: 0.0030616415465682862\n"
     ]
    }
   ],
   "source": [
    "importances = best_rf_model.feature_importances_\n",
    "\n",
    "# Pair feature names with their importance scores\n",
    "feature_importance = list(zip(x.columns, importances))\n",
    "feature_importance.sort(key=lambda x: x[1], reverse=True)\n",
    "\n",
    "# Print or analyze feature importance\n",
    "for feature, importance in feature_importance:\n",
    "    print(f\"{feature}: {importance}\")\n"
   ]
  },
  {
   "cell_type": "code",
   "execution_count": 15,
   "id": "f0b60d1b",
   "metadata": {},
   "outputs": [
    {
     "name": "stdout",
     "output_type": "stream",
     "text": [
      "JobLevel: 0.11947787553071976\n",
      "OverTime: 0.07447352260351181\n",
      "StockOptionLevel: 0.05596071481704712\n",
      "MaritalStatus: 0.046003811061382294\n",
      "TotalWorkingYears: 0.038586828857660294\n",
      "MonthlyIncome: 0.03772985562682152\n",
      "EducationField: 0.03468475490808487\n",
      "Age: 0.03327802196145058\n",
      "JobRole: 0.03230428695678711\n",
      "JobSatisfaction: 0.032243762165308\n",
      "BusinessTravel: 0.032038576900959015\n",
      "JobInvolvement: 0.03191133216023445\n",
      "EnvironmentSatisfaction: 0.030019136145710945\n",
      "YearsInCurrentRole: 0.029614007100462914\n",
      "YearsSinceLastPromotion: 0.02934321202337742\n",
      "YearsAtCompany: 0.028029730543494225\n",
      "NumCompaniesWorked: 0.027210917323827744\n",
      "WorkLifeBalance: 0.026899103075265884\n",
      "DistanceFromHome: 0.026609940454363823\n",
      "YearsWithCurrManager: 0.02477877400815487\n",
      "RelationshipSatisfaction: 0.02431451715528965\n",
      "TrainingTimesLastYear: 0.02426694519817829\n",
      "Department: 0.022332962602376938\n",
      "DailyRate: 0.02165420912206173\n",
      "HourlyRate: 0.021374860778450966\n",
      "Gender: 0.020334383472800255\n",
      "EmployeeNumber: 0.01991833932697773\n",
      "MonthlyRate: 0.01877918839454651\n",
      "PercentSalaryHike: 0.01814105547964573\n",
      "Education: 0.017685482278466225\n",
      "PerformanceRating: 0.0\n"
     ]
    }
   ],
   "source": [
    "importances = best_xgb_model.feature_importances_\n",
    "\n",
    "# Pair feature names with their importance scores\n",
    "feature_importance = list(zip(x.columns, importances))\n",
    "feature_importance.sort(key=lambda x: x[1], reverse=True)\n",
    "\n",
    "# Print or analyze feature importance\n",
    "for feature, importance in feature_importance:\n",
    "    print(f\"{feature}: {importance}\")\n"
   ]
  },
  {
   "cell_type": "code",
   "execution_count": 13,
   "id": "a5c7d2c2",
   "metadata": {},
   "outputs": [
    {
     "name": "stdout",
     "output_type": "stream",
     "text": [
      "                     Feature  Importance\n",
      "16             MonthlyIncome    0.083655\n",
      "19                  OverTime    0.072316\n",
      "24         TotalWorkingYears    0.053713\n",
      "0                        Age    0.053391\n",
      "2                  DailyRate    0.048243\n",
      "4           DistanceFromHome    0.045011\n",
      "7             EmployeeNumber    0.044037\n",
      "10                HourlyRate    0.043888\n",
      "17               MonthlyRate    0.043787\n",
      "27            YearsAtCompany    0.042056\n",
      "18        NumCompaniesWorked    0.035630\n",
      "23          StockOptionLevel    0.034393\n",
      "30      YearsWithCurrManager    0.034289\n",
      "29   YearsSinceLastPromotion    0.029821\n",
      "20         PercentSalaryHike    0.029075\n",
      "28        YearsInCurrentRole    0.027445\n",
      "12                  JobLevel    0.027425\n",
      "25     TrainingTimesLastYear    0.027049\n",
      "11            JobInvolvement    0.025082\n",
      "13                   JobRole    0.023160\n",
      "15             MaritalStatus    0.022571\n",
      "14           JobSatisfaction    0.021840\n",
      "1             BusinessTravel    0.021466\n",
      "6             EducationField    0.020937\n",
      "8    EnvironmentSatisfaction    0.020474\n",
      "26           WorkLifeBalance    0.016891\n",
      "22  RelationshipSatisfaction    0.016231\n",
      "5                  Education    0.015422\n",
      "3                 Department    0.011571\n",
      "9                     Gender    0.006067\n",
      "21         PerformanceRating    0.003062\n"
     ]
    }
   ],
   "source": [
    "feature_importance = best_rf_model.feature_importances_\n",
    "feature_importance_df = pd.DataFrame({'Feature': x_train.columns, 'Importance': feature_importance})\n",
    "feature_importance_df = feature_importance_df.sort_values(by='Importance', ascending=False)\n",
    "print(feature_importance_df)\n"
   ]
  },
  {
   "cell_type": "code",
   "execution_count": null,
   "id": "47f95af9",
   "metadata": {},
   "outputs": [],
   "source": [
    "############################################ hethom zeidin just kifeh sensitivity tt7sb mais deja 7asbin el recall w c mm"
   ]
  },
  {
   "cell_type": "code",
   "execution_count": 65,
   "id": "f4d18ec7",
   "metadata": {},
   "outputs": [
    {
     "name": "stdout",
     "output_type": "stream",
     "text": [
      "Sensitivity (Recall) for Random Forest: 0.10256410256410256\n"
     ]
    }
   ],
   "source": [
    "    from sklearn.metrics import confusion_matrix\n",
    "\n",
    "# Calculate the confusion matrix for Random Forest (tuned)\n",
    "rf_confusion_tuned = confusion_matrix(y_test, rf_predictions_tuned)\n",
    "\n",
    "# Extract values from the confusion matrix\n",
    "true_positives_rf = rf_confusion_tuned[1, 1]  # True Positives\n",
    "false_negatives_rf = rf_confusion_tuned[1, 0]  # False Negatives\n",
    "\n",
    "# Calculate Sensitivity (Recall) for Random Forest\n",
    "sensitivity_rf = true_positives_rf / (true_positives_rf + false_negatives_rf)\n",
    "\n",
    "print(f\"Sensitivity (Recall) for Random Forest: {sensitivity_rf}\")\n",
    "\n"
   ]
  },
  {
   "cell_type": "code",
   "execution_count": 19,
   "id": "277efc80",
   "metadata": {},
   "outputs": [
    {
     "name": "stdout",
     "output_type": "stream",
     "text": [
      "Sensitivity (Recall) for XGBoost: 0.38461538461538464\n"
     ]
    }
   ],
   "source": [
    "# Calculate the confusion matrix for XGBoost (tuned)\n",
    "xgb_confusion_tuned = confusion_matrix(y_test, xgb_predictions_tuned)\n",
    "\n",
    "# Extract values from the confusion matrix\n",
    "true_positives_xgb = xgb_confusion_tuned[1, 1]  # True Positives\n",
    "false_negatives_xgb = xgb_confusion_tuned[1, 0]  # False Negatives\n",
    "\n",
    "# Calculate Sensitivity (Recall) for XGBoost\n",
    "sensitivity_xgb = true_positives_xgb / (true_positives_xgb + false_negatives_xgb)\n",
    "\n",
    "print(f\"Sensitivity (Recall) for XGBoost: {sensitivity_xgb}\")\n"
   ]
  },
  {
   "cell_type": "markdown",
   "id": "1e5a98a4",
   "metadata": {},
   "source": [
    "###############  adjust threshold: If the probability score for an example is greater than or equal to the threshold, the model classifies it as the positive class; otherwise, it's classified as the negative class."
   ]
  },
  {
   "cell_type": "code",
   "execution_count": 75,
   "id": "9f6735d6",
   "metadata": {
    "scrolled": true
   },
   "outputs": [
    {
     "name": "stdout",
     "output_type": "stream",
     "text": [
      "Best Threshold for Max Sensitivity: 0.1\n",
      "Max Sensitivity: 0.5641025641025641\n",
      "Classification Report for Model with Max Sensitivity:\n",
      "              precision    recall  f1-score   support\n",
      "\n",
      "           0       0.90      0.61      0.73       255\n",
      "           1       0.18      0.56      0.27        39\n",
      "\n",
      "    accuracy                           0.60       294\n",
      "   macro avg       0.54      0.59      0.50       294\n",
      "weighted avg       0.81      0.60      0.67       294\n",
      "\n"
     ]
    }
   ],
   "source": [
    "# Example for Random Forest (tuned):\n",
    "from sklearn.metrics import classification_report\n",
    "# Function to adjust threshold and calculate sensitivity\n",
    "def adjust_threshold_and_evaluate(model, x, y, threshold):\n",
    "    y_prob = model.predict_proba(x)[:, 1]  # Get probability scores for the positive class\n",
    "    y_pred = (y_prob > threshold).astype(int)  # Adjust threshold for class prediction\n",
    "    \n",
    "    sensitivity = recall_score(y, y_pred)\n",
    "    return sensitivity, y_pred\n",
    "\n",
    "# Define a range of threshold values to test\n",
    "threshold_values = [0.1, 0.2, 0.3, 0.4, 0.5, 0.6, 0.7, 0.8, 0.9]\n",
    "sensitivity_scores = []\n",
    "y_preds = []\n",
    "# Iterate through different threshold values\n",
    "for threshold in threshold_values:\n",
    "    sensitivity, y_pred = adjust_threshold_and_evaluate(best_rf_model, x_test, y_test, threshold)\n",
    "    sensitivity_scores.append(sensitivity)\n",
    "    y_preds.append(y_pred)\n",
    "\n",
    "# Find the threshold that maximizes sensitivity\n",
    "best_threshold = threshold_values[sensitivity_scores.index(max(sensitivity_scores))]\n",
    "print(f\"Best Threshold for Max Sensitivity: {best_threshold}\")\n",
    "\n",
    "# Calculate sensitivity for the best threshold\n",
    "best_sensitivity = max(sensitivity_scores)\n",
    "print(f\"Max Sensitivity: {best_sensitivity}\")\n",
    "\n",
    "# Evaluate other metrics for the model with the best threshold\n",
    "best_y_pred = y_preds[sensitivity_scores.index(max(sensitivity_scores))]\n",
    "print(\"Classification Report for Model with Max Sensitivity:\")\n",
    "print(classification_report(y_test, best_y_pred))\n"
   ]
  },
  {
   "cell_type": "code",
   "execution_count": 81,
   "id": "7fc52532",
   "metadata": {},
   "outputs": [
    {
     "name": "stdout",
     "output_type": "stream",
     "text": [
      "Best Threshold for Max Sensitivity: 0.1\n",
      "Max Sensitivity: 0.8717948717948718\n",
      "Classification Report for Model with Max Sensitivity:\n",
      "              precision    recall  f1-score   support\n",
      "\n",
      "           0       0.96      0.47      0.63       255\n",
      "           1       0.20      0.87      0.33        39\n",
      "\n",
      "    accuracy                           0.52       294\n",
      "   macro avg       0.58      0.67      0.48       294\n",
      "weighted avg       0.86      0.52      0.59       294\n",
      "\n"
     ]
    }
   ],
   "source": [
    "# Example for Random Forest (not_tuned):\n",
    "\n",
    "sensitivity_scores = []\n",
    "y_preds = []\n",
    "# Iterate through different threshold values\n",
    "for threshold in threshold_values:\n",
    "    sensitivity, y_pred = adjust_threshold_and_evaluate(rf_model, x_test, y_test, threshold)\n",
    "    sensitivity_scores.append(sensitivity)\n",
    "    y_preds.append(y_pred)\n",
    "\n",
    "best_threshold = threshold_values[sensitivity_scores.index(max(sensitivity_scores))]\n",
    "print(f\"Best Threshold for Max Sensitivity: {best_threshold}\")\n",
    "best_sensitivity = max(sensitivity_scores)\n",
    "print(f\"Max Sensitivity: {best_sensitivity}\")\n",
    "best_y_pred = y_preds[sensitivity_scores.index(max(sensitivity_scores))]\n",
    "print(\"Classification Report for Model with Max Sensitivity:\")\n",
    "print(classification_report(y_test, best_y_pred))\n"
   ]
  },
  {
   "cell_type": "code",
   "execution_count": 69,
   "id": "6eba10c8",
   "metadata": {
    "scrolled": true
   },
   "outputs": [
    {
     "name": "stdout",
     "output_type": "stream",
     "text": [
      "Best Threshold for Max Sensitivity: 0.1\n",
      "Max Sensitivity: 0.6666666666666666\n",
      "Classification Report for Model with Max Sensitivity:\n",
      "              precision    recall  f1-score   support\n",
      "\n",
      "           0       0.94      0.79      0.86       255\n",
      "           1       0.33      0.67      0.44        39\n",
      "\n",
      "    accuracy                           0.78       294\n",
      "   macro avg       0.63      0.73      0.65       294\n",
      "weighted avg       0.86      0.78      0.80       294\n",
      "\n"
     ]
    },
    {
     "data": {
      "image/png": "[encoded data removed]",
      "text/plain": [
       "<Figure size 640x480 with 1 Axes>"
      ]
     },
     "metadata": {},
     "output_type": "display_data"
    }
   ],
   "source": [
    "# Example for XGBoost (tuned):\n",
    "\n",
    "\n",
    "# Replace 'your_xgb_model' with your actual XGBoost model\n",
    "your_xgb_model = best_xgb_model\n",
    "\n",
    "# Define a range of threshold values to test\n",
    "threshold_values = [0.1, 0.2, 0.3, 0.4, 0.5, 0.6, 0.7, 0.8, 0.9]\n",
    "\n",
    "sensitivity_scores = []\n",
    "y_preds = []\n",
    "\n",
    "# Iterate through different threshold values\n",
    "for threshold in threshold_values:\n",
    "    sensitivity, y_pred = adjust_threshold_and_evaluate(your_xgb_model, x_test, y_test, threshold)\n",
    "    sensitivity_scores.append(sensitivity)\n",
    "    y_preds.append(y_pred)\n",
    "\n",
    "# Find the threshold that maximizes sensitivity\n",
    "best_threshold = threshold_values[sensitivity_scores.index(max(sensitivity_scores))]\n",
    "print(f\"Best Threshold for Max Sensitivity: {best_threshold}\")\n",
    "\n",
    "# Calculate sensitivity for the best threshold\n",
    "best_sensitivity = max(sensitivity_scores)\n",
    "print(f\"Max Sensitivity: {best_sensitivity}\")\n",
    "\n",
    "# Evaluate other metrics for the model with the best threshold\n",
    "best_y_pred = y_preds[sensitivity_scores.index(max(sensitivity_scores))]\n",
    "print(\"Classification Report for Model with Max Sensitivity:\")\n",
    "print(classification_report(y_test, best_y_pred))\n",
    "\n",
    "# Plot ROC curve and calculate ROC AUC\n",
    "fpr, tpr, thresholds = roc_curve(y_test, your_xgb_model.predict_proba(x_test)[:, 1])\n",
    "roc_auc = roc_auc_score(y_test, your_xgb_model.predict_proba(x_test)[:, 1])\n",
    "\n",
    "plt.figure()\n",
    "plt.plot(fpr, tpr, color='darkorange', lw=2, label=f'ROC curve (area = {roc_auc:.2f})')\n",
    "plt.plot([0, 1], [0, 1], color='navy', lw=2, linestyle='--')  # Corrected syntax here\n",
    "plt.xlim([0.0, 1.0])\n",
    "plt.ylim([0.0, 1.05])\n",
    "plt.xlabel('False Positive Rate')\n",
    "plt.ylabel('True Positive Rate')\n",
    "plt.title('Receiver Operating Characteristic')\n",
    "plt.legend(loc=\"lower right\")\n",
    "plt.show()"
   ]
  },
  {
   "cell_type": "code",
   "execution_count": 70,
   "id": "7104bc43",
   "metadata": {},
   "outputs": [
    {
     "name": "stdout",
     "output_type": "stream",
     "text": [
      "Best Threshold for Max Sensitivity: 0.1\n",
      "Max Sensitivity: 0.5128205128205128\n",
      "Classification Report for Model with Max Sensitivity:\n",
      "              precision    recall  f1-score   support\n",
      "\n",
      "           0       0.92      0.86      0.89       255\n",
      "           1       0.36      0.51      0.43        39\n",
      "\n",
      "    accuracy                           0.82       294\n",
      "   macro avg       0.64      0.69      0.66       294\n",
      "weighted avg       0.85      0.82      0.83       294\n",
      "\n"
     ]
    },
    {
     "data": {
      "image/png": "[encoded data removed]",
      "text/plain": [
       "<Figure size 640x480 with 1 Axes>"
      ]
     },
     "metadata": {},
     "output_type": "display_data"
    }
   ],
   "source": [
    "# Example for XGBoost (not_tuned):\n",
    "from sklearn.metrics import classification_report, roc_curve, roc_auc_score\n",
    "import matplotlib.pyplot as plt\n",
    "\n",
    "# Function to adjust threshold and calculate sensitivity\n",
    "def adjust_threshold_and_evaluate(model, x, y, threshold):\n",
    "    y_prob = model.predict_proba(x)[:, 1]  # Get probability scores for the positive class\n",
    "    y_pred = (y_prob > threshold).astype(int)  # Adjust threshold for class prediction\n",
    "    \n",
    "    sensitivity = recall_score(y, y_pred)\n",
    "    return sensitivity, y_pred\n",
    "\n",
    "# Replace 'your_xgb_model' with your actual XGBoost model\n",
    "your_xgb_model = xgb_model\n",
    "\n",
    "# Define a range of threshold values to test\n",
    "threshold_values = [0.1, 0.2, 0.3, 0.4, 0.5, 0.6, 0.7, 0.8, 0.9]\n",
    "\n",
    "sensitivity_scores = []\n",
    "y_preds = []\n",
    "\n",
    "# Iterate through different threshold values\n",
    "for threshold in threshold_values:\n",
    "    sensitivity, y_pred = adjust_threshold_and_evaluate(your_xgb_model, x_test, y_test, threshold)\n",
    "    sensitivity_scores.append(sensitivity)\n",
    "    y_preds.append(y_pred)\n",
    "\n",
    "# Find the threshold that maximizes sensitivity\n",
    "best_threshold = threshold_values[sensitivity_scores.index(max(sensitivity_scores))]\n",
    "print(f\"Best Threshold for Max Sensitivity: {best_threshold}\")\n",
    "\n",
    "# Calculate sensitivity for the best threshold\n",
    "best_sensitivity = max(sensitivity_scores)\n",
    "print(f\"Max Sensitivity: {best_sensitivity}\")\n",
    "\n",
    "# Evaluate other metrics for the model with the best threshold\n",
    "best_y_pred = y_preds[sensitivity_scores.index(max(sensitivity_scores))]\n",
    "print(\"Classification Report for Model with Max Sensitivity:\")\n",
    "print(classification_report(y_test, best_y_pred))\n",
    "\n",
    "# Plot ROC curve and calculate ROC AUC\n",
    "fpr, tpr, thresholds = roc_curve(y_test, your_xgb_model.predict_proba(x_test)[:, 1])\n",
    "roc_auc = roc_auc_score(y_test, your_xgb_model.predict_proba(x_test)[:, 1])\n",
    "\n",
    "plt.figure()\n",
    "plt.plot(fpr, tpr, color='darkorange', lw=2, label=f'ROC curve (area = {roc_auc:.2f})')\n",
    "plt.plot([0, 1], [0, 1], color='navy', lw=2, linestyle='--')  # Corrected syntax here\n",
    "plt.xlim([0.0, 1.0])\n",
    "plt.ylim([0.0, 1.05])\n",
    "plt.xlabel('False Positive Rate')\n",
    "plt.ylabel('True Positive Rate')\n",
    "plt.title('Receiver Operating Characteristic')\n",
    "plt.legend(loc=\"lower right\")\n",
    "plt.show()"
   ]
  },
  {
   "cell_type": "markdown",
   "id": "50ac6794",
   "metadata": {},
   "source": [
    "#Sensitivity (Recall): The primary goal of the attrition prediction model is to identify employees at risk of attrition so that proactive interventions can be taken. High sensitivity ensures that the model can correctly identify as many employees at risk as possible, minimizing false negatives. In this context, false negatives (not identifying employees who are actually at risk) can be costly to the company, as it may result in attrition that could have been prevented. Prioritizing sensitivity helps in addressing this issue effectively."
   ]
  },
  {
   "cell_type": "code",
   "execution_count": null,
   "id": "a484153d",
   "metadata": {},
   "outputs": [],
   "source": []
  }
 ],
 "metadata": {
  "kernelspec": {
   "display_name": "Python 3 (ipykernel)",
   "language": "python",
   "name": "python3"
  },
  "language_info": {
   "codemirror_mode": {
    "name": "ipython",
    "version": 3
   },
   "file_extension": ".py",
   "mimetype": "text/x-python",
   "name": "python",
   "nbconvert_exporter": "python",
   "pygments_lexer": "ipython3",
   "version": "3.11.1"
  }
 },
 "nbformat": 4,
 "nbformat_minor": 5
}
