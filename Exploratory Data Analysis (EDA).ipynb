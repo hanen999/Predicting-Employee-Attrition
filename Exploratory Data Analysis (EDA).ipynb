{
 "cells": [
  {
   "cell_type": "code",
   "execution_count": null,
   "id": "8d3c6fb5",
   "metadata": {},
   "outputs": [],
   "source": [
    "#Step 1: Import Required Libraries"
   ]
  },
  {
   "cell_type": "code",
   "execution_count": null,
   "id": "34caf1dd",
   "metadata": {},
   "outputs": [],
   "source": [
    "import pandas as pd\n",
    "import numpy as np\n",
    "import matplotlib.pyplot as plt\n",
    "import seaborn as sns"
   ]
  },
  {
   "cell_type": "code",
   "execution_count": null,
   "id": "0cd0738f",
   "metadata": {},
   "outputs": [],
   "source": [
    "#Step 2: Load the Dataset\n",
    "\n"
   ]
  },
  {
   "cell_type": "code",
   "execution_count": null,
   "id": "37642901",
   "metadata": {},
   "outputs": [],
   "source": [
    "df = pd.read_csv('C:/Users/hanen/Desktop/prediction employee attrition IBM/WA_Fn-UseC_-HR-Employee-Attrition.csv')\n"
   ]
  },
  {
   "cell_type": "code",
   "execution_count": null,
   "id": "c0a0c380",
   "metadata": {},
   "outputs": [],
   "source": [
    "# Capture the list of columns to be dropped\n",
    "dropped_columns = df.columns[df.nunique() == 1]\n",
    "\n",
    "# Drop the constant columns and update the DataFrame\n",
    "df = df.loc[:, df.nunique() > 1]"
   ]
  },
  {
   "cell_type": "code",
   "execution_count": null,
   "id": "c1dff5d9",
   "metadata": {},
   "outputs": [],
   "source": [
    "display(df)"
   ]
  },
  {
   "cell_type": "code",
   "execution_count": null,
   "id": "3e8cab3f",
   "metadata": {},
   "outputs": [],
   "source": [
    "# Encode non-numeric columns to include them in the correlation analysis\n"
   ]
  },
  {
   "cell_type": "code",
   "execution_count": null,
   "id": "379c1525",
   "metadata": {},
   "outputs": [],
   "source": [
    "# Define mappings for specific columns\n",
    "column_mappings = {\n",
    "    'Attrition': {'No': 0, 'Yes': 1},\n",
    "    'BusinessTravel': {'Travel_Frequently': 2, 'Travel_Rarely': 1, 'Non-Travel': 0},\n",
    "    'Department': {'Research & Development': 3, 'Sales': 2, 'Human Resources': 1},\n",
    "    'EducationField': {\n",
    "        'Life Sciences': 1, 'Other': 6, 'Medical': 2, 'Marketing': 3,\n",
    "        'Technical Degree': 4, 'Human Resources': 5\n",
    "    },\n",
    "    'Gender': {'Male': 0, 'Female': 1},\n",
    "    'JobRole': {\n",
    "        'Research Scientist': 1, 'Laboratory Technician': 2, 'Manufacturing Director': 3,\n",
    "        'Healthcare Representative': 4, 'Manager': 5, 'Sales Representative': 6,\n",
    "        'Research Director': 7, 'Sales Executive': 8, 'Human Resources': 9\n",
    "    },\n",
    "    'MaritalStatus': {'Married': 2, 'Single': 1, 'Divorced': 3},\n",
    "    'Over18': {'Y': 1},\n",
    "    'OverTime': {'No': 0, 'Yes': 1}\n",
    "}"
   ]
  },
  {
   "cell_type": "code",
   "execution_count": null,
   "id": "e23a58c8",
   "metadata": {},
   "outputs": [],
   "source": [
    "# Use the replace method with the defined mappings for specific columns\n",
    "df.replace(column_mappings, inplace=True)\n",
    "\n",
    "# Print the updated DataFrame\n",
    "display(df.head())"
   ]
  },
  {
   "cell_type": "code",
   "execution_count": null,
   "id": "27477f8d",
   "metadata": {
    "scrolled": true
   },
   "outputs": [],
   "source": [
    "# Define the column mappings\n",
    "column_mappings = {\n",
    "    'Attrition': {'No': 0, 'Yes': 1},\n",
    "    'BusinessTravel': {'Travel_Frequently': 2, 'Travel_Rarely': 1, 'Non-Travel': 0},\n",
    "    'Department': {'Research & Development': 3, 'Sales': 2, 'Human Resources': 1},\n",
    "    'EducationField': {\n",
    "        'Life Sciences': 1, 'Other': 6, 'Medical': 2, 'Marketing': 3,\n",
    "        'Technical Degree': 4, 'Human Resources': 5\n",
    "    },\n",
    "    'Gender': {'Male': 0, 'Female': 1},\n",
    "    'JobRole': {\n",
    "        'Research Scientist': 1, 'Laboratory Technician': 2, 'Manufacturing Director': 3,\n",
    "        'Healthcare Representative': 4, 'Manager': 5, 'Sales Representative': 6,\n",
    "        'Research Director': 7, 'Sales Executive': 8, 'Human Resources': 9\n",
    "    },\n",
    "    'MaritalStatus': {'Married': 2, 'Single': 1, 'Divorced': 3},\n",
    "    'OverTime': {'No': 0, 'Yes': 1}\n",
    "}\n",
    "\n",
    "# Loop through the scenarios and calculate attrition rates for all features\n",
    "for feature, mapping in column_mappings.items():\n",
    "    for value, encoded_value in mapping.items():\n",
    "        attrition_condition = (df['Attrition'] == 1) & (df[feature] == encoded_value)\n",
    "        total_attrition = df[attrition_condition]['Attrition'].count()\n",
    "        average_employees = df[df[feature] == encoded_value]['Attrition'].count()\n",
    "        attrition_rate = total_attrition / average_employees\n",
    "        print(f\"Attrition Rate for {feature}: {value}: {attrition_rate:.8%}\")\n"
   ]
  },
  {
   "cell_type": "code",
   "execution_count": null,
   "id": "c8e2edcc",
   "metadata": {},
   "outputs": [],
   "source": [
    "#Step 3: Perform Exploratory Data Analysis (EDA)\n",
    "\n",
    "#3.1. Summary Statistics:"
   ]
  },
  {
   "cell_type": "code",
   "execution_count": null,
   "id": "15af7c5e",
   "metadata": {},
   "outputs": [],
   "source": [
    "summary_stats = df.describe(include='all')\n",
    "display(summary_stats)"
   ]
  },
  {
   "cell_type": "code",
   "execution_count": null,
   "id": "cc5cb917",
   "metadata": {},
   "outputs": [],
   "source": []
  },
  {
   "cell_type": "code",
   "execution_count": null,
   "id": "e3b5cf1c",
   "metadata": {},
   "outputs": [],
   "source": [
    "\n"
   ]
  },
  {
   "cell_type": "code",
   "execution_count": null,
   "id": "92ffa5a8",
   "metadata": {},
   "outputs": [],
   "source": [
    "#Step 4: Data Visualization\n",
    "\n",
    "#4.1. Correlation Matrix:"
   ]
  },
  {
   "cell_type": "code",
   "execution_count": null,
   "id": "744843f1",
   "metadata": {},
   "outputs": [],
   "source": [
    "\n"
   ]
  },
  {
   "cell_type": "code",
   "execution_count": null,
   "id": "64996fb7",
   "metadata": {},
   "outputs": [],
   "source": []
  },
  {
   "cell_type": "code",
   "execution_count": null,
   "id": "ee88495c",
   "metadata": {},
   "outputs": [],
   "source": [
    "# Encode non-numeric columns to include them in the correlation analysis\n",
    "\n",
    "from sklearn.preprocessing import LabelEncoder\n",
    "\n",
    "# Make a copy of the DataFrame to preserve the original data\n",
    "df_encoded = df.copy()\n",
    "\n",
    "# Encode non-numeric columns\n",
    "label_encoder = LabelEncoder()\n",
    "for column in df.columns:\n",
    "    if df_encoded[column].dtype == 'object':\n",
    "        df_encoded[column] = label_encoder.fit_transform(df_encoded[column])\n",
    "\n",
    "# Calculate the correlation matrix\n",
    "correlation_matrix = df_encoded.corr()\n",
    "\n",
    "# Create the heatmap as before\n",
    "plt.figure(figsize=(30, 12))\n",
    "sns.heatmap(correlation_matrix, annot=True, cmap=\"coolwarm\", fmt=\".2f\", linewidths=0.5)\n",
    "plt.xticks(rotation=45)\n",
    "plt.yticks(rotation=0)\n",
    "plt.show()\n"
   ]
  },
  {
   "cell_type": "code",
   "execution_count": null,
   "id": "62b4d6b4",
   "metadata": {},
   "outputs": [],
   "source": [
    "#Step 5: Identify Key Features Correlating with Attrition\n",
    "\n",
    "#5.1. Correlation with Attrition:"
   ]
  },
  {
   "cell_type": "code",
   "execution_count": null,
   "id": "3cf34bfe",
   "metadata": {
    "scrolled": true
   },
   "outputs": [],
   "source": [
    "attrition_correlation = df.corr()[\"Attrition\"].sort_values(ascending=False)\n",
    "print(attrition_correlation)\n"
   ]
  },
  {
   "cell_type": "code",
   "execution_count": null,
   "id": "0e835088",
   "metadata": {},
   "outputs": [],
   "source": [
    "\n",
    "plt.figure(figsize=(12, 8))\n",
    "sns.violinplot(x='MaritalStatus', y='Age', hue='Attrition', data=df, split=True, inner='quart', palette='Set1')\n",
    "plt.title('Relationship Between Age, Marital Status, and Attrition')\n",
    "plt.show()"
   ]
  },
  {
   "cell_type": "code",
   "execution_count": null,
   "id": "2ba660a0",
   "metadata": {
    "scrolled": true
   },
   "outputs": [],
   "source": [
    "plt.figure(figsize=(12, 8))\n",
    "sns.boxplot(x='MaritalStatus', y='Age', hue='Attrition', data=df)\n",
    "plt.title('Box Plot of Age by Marital Status and Attrition')\n",
    "plt.show()"
   ]
  },
  {
   "cell_type": "code",
   "execution_count": null,
   "id": "dac2b54a",
   "metadata": {},
   "outputs": [],
   "source": [
    "%%time\n",
    "df1 = df[['Attrition','MaritalStatus']]\n",
    "sns.pairplot(df1, hue=\"Attrition\", diag_kind=\"kde\")\n",
    "plt.show()\n"
   ]
  },
  {
   "cell_type": "code",
   "execution_count": null,
   "id": "51fae160",
   "metadata": {},
   "outputs": [],
   "source": [
    "%%time\n",
    "df1 = df[['Attrition','MaritalStatus', 'Age']]\n",
    "sns.pairplot(df1, hue=\"Attrition\", diag_kind=\"kde\")\n",
    "plt.show()\n"
   ]
  },
  {
   "cell_type": "code",
   "execution_count": null,
   "id": "2de63014",
   "metadata": {},
   "outputs": [],
   "source": [
    "%%time\n",
    "sns.pairplot(df, hue=\"Attrition\", diag_kind=\"kde\")\n",
    "plt.show()"
   ]
  },
  {
   "cell_type": "code",
   "execution_count": null,
   "id": "93a6ab3a",
   "metadata": {
    "scrolled": true
   },
   "outputs": [],
   "source": [
    "df1 = df[['Attrition','OverTime', 'BusinessTravel', 'DistanceFromHome', 'EducationField', 'NumCompaniesWorked']]\n",
    "sns.pairplot(df1, hue=\"Attrition\", diag_kind=\"kde\")\n",
    "plt.show()\n"
   ]
  },
  {
   "cell_type": "code",
   "execution_count": null,
   "id": "4c2a28e9",
   "metadata": {},
   "outputs": [],
   "source": [
    "df1 = df[['Attrition','Department', 'JobSatisfaction', 'MonthlyRate', 'BusinessTravel']]\n",
    "sns.pairplot(df1, hue=\"Attrition\", diag_kind=\"kde\")\n",
    "plt.show()\n"
   ]
  },
  {
   "cell_type": "code",
   "execution_count": null,
   "id": "a50740d6",
   "metadata": {},
   "outputs": [],
   "source": [
    "#(2,4)Comparing to people without busness travel, people with frequent travel are more likely to quit.\n",
    "#(1,5) in case of overtime, attrition rate (num of employee left the workplace/ average num of employees) is more than attrition rate in case of no overtime.\n",
    "#(4,5)based on educationfield, people having overtime are more likely to quit"
   ]
  },
  {
   "cell_type": "code",
   "execution_count": null,
   "id": "9339c29d",
   "metadata": {},
   "outputs": [],
   "source": [
    "%%time\n",
    "df1 = df[['Attrition','MonthlyIncome', 'Age', 'DailyRate','OverTime']]\n",
    "sns.pairplot(df1, hue=\"Attrition\", diag_kind=\"kde\")\n",
    "plt.show()\n",
    "\n"
   ]
  },
  {
   "cell_type": "code",
   "execution_count": null,
   "id": "1c6eceaa",
   "metadata": {},
   "outputs": [],
   "source": [
    "#for all daily rate, if you have overtime, you most likely to quit(4,2)\n",
    "\n",
    "#(1,4) when your monthlyIncome is high you're most likely not to quit \n",
    "#(1,1) even if you don't have overtime, but your monthlyIncome is low, you re more probably to quit\n",
    "#(3,2) people with low daily rate, are most likely to quit wheras, if people are having high daily rate they are most likely to stay"
   ]
  },
  {
   "cell_type": "code",
   "execution_count": null,
   "id": "fab95664",
   "metadata": {},
   "outputs": [],
   "source": [
    "%%time\n",
    "\n",
    "df2 = df[['Attrition','MonthlyRate', 'MonthlyIncome', 'PerformanceRating']]\n",
    "\n",
    "sns.pairplot(df2, hue=\"Attrition\", diag_kind=\"kde\")\n",
    "plt.show()\n"
   ]
  },
  {
   "cell_type": "code",
   "execution_count": null,
   "id": "a52a3165",
   "metadata": {},
   "outputs": [],
   "source": [
    "#(2,3) Males with very high education are most likely to live\n",
    "# no clear interpretation \n",
    "#theses "
   ]
  },
  {
   "cell_type": "code",
   "execution_count": null,
   "id": "6f420fde",
   "metadata": {},
   "outputs": [],
   "source": []
  },
  {
   "cell_type": "code",
   "execution_count": null,
   "id": "d00cc085",
   "metadata": {},
   "outputs": [],
   "source": [
    "#Seaborn, a popular Python data visualization library.\n",
    "#A pairplot is a grid of scatterplots and histograms that provides a quick visual overview of relationships between pairs of variables in a dataset. \n",
    "# Features with less importance may confuse the model since they don't add any significal information aboutt people behavious in order to conclude if the employee is going to quit or not"
   ]
  },
  {
   "cell_type": "code",
   "execution_count": null,
   "id": "3c1e4d40",
   "metadata": {},
   "outputs": [],
   "source": []
  },
  {
   "cell_type": "code",
   "execution_count": null,
   "id": "4af23e19",
   "metadata": {},
   "outputs": [],
   "source": [
    "#4.3. Distribution of Features:\n",
    "\n",
    "for column in df.columns:\n",
    "    plt.figure(figsize=(8, 6))\n",
    "    sns.histplot(data=df, x=column, hue=\"Attrition\", kde=True)\n",
    "    plt.title(f'Distribution of {column}')\n",
    "    plt.show()\n"
   ]
  },
  {
   "cell_type": "code",
   "execution_count": null,
   "id": "49fdfecc",
   "metadata": {},
   "outputs": [],
   "source": []
  },
  {
   "cell_type": "code",
   "execution_count": null,
   "id": "9ed70f7d",
   "metadata": {},
   "outputs": [],
   "source": [
    "# Feature Distributions (KDE Plots)\n",
    "numeric_features = df.select_dtypes(include=['int64', 'float64']).columns\n",
    "for column in numeric_features:\n",
    "    plt.figure(figsize=(6, 4))\n",
    "    plt.title(f'{column} Distribution by Attrition')\n",
    "    sns.kdeplot(df[df['Attrition'] == 1][column], label='Attrition: Yes')\n",
    "    sns.kdeplot(df[df['Attrition'] == 0][column], label='Attrition: No')\n",
    "    plt.legend()\n",
    "    plt.show()"
   ]
  },
  {
   "cell_type": "code",
   "execution_count": null,
   "id": "a6199c7b",
   "metadata": {},
   "outputs": [],
   "source": [
    "grouped_by_department = df.groupby('Department')['Attrition'].mean()\n",
    "print(\"Attrition Rate by Department:\\n\", grouped_by_department)"
   ]
  },
  {
   "cell_type": "code",
   "execution_count": null,
   "id": "7e23ae74",
   "metadata": {},
   "outputs": [],
   "source": [
    "# Statistical Tests (Example: T-Test)\n",
    "from scipy.stats import ttest_ind\n",
    "attrition_yes = df[df['Attrition'] == 1]\n",
    "attrition_no = df[df['Attrition'] == 0]\n",
    "t_stat, p_value = ttest_ind(attrition_yes['MonthlyIncome'], attrition_no['MonthlyIncome'])\n",
    "print(\"T-Test for MonthlyIncome and Attrition:\\nT-Stat:\", t_stat, \"P-Value:\", p_value)\n"
   ]
  },
  {
   "cell_type": "code",
   "execution_count": null,
   "id": "ceaadb31",
   "metadata": {},
   "outputs": [],
   "source": [
    "# Get all column names from the DataFrame\n",
    "all_column_names = df.columns\n",
    "\n",
    "# Create a list of features to test using all column names\n",
    "features_to_test = list(df.columns)\n",
    "\n",
    "# Print the list of features to test\n",
    "print(features_to_test)"
   ]
  },
  {
   "cell_type": "code",
   "execution_count": null,
   "id": "feac99fc",
   "metadata": {},
   "outputs": [],
   "source": [
    " ###### Feature Engineering "
   ]
  },
  {
   "cell_type": "code",
   "execution_count": null,
   "id": "91700f61",
   "metadata": {},
   "outputs": [],
   "source": [
    "df"
   ]
  },
  {
   "cell_type": "code",
   "execution_count": null,
   "id": "4ae82e9e",
   "metadata": {},
   "outputs": [],
   "source": [
    "from scipy.stats import ttest_ind\n",
    "\n",
    "features_to_test = list(df.columns)\n",
    "\n",
    "for feature in features_to_test:\n",
    "    attrition_yes = df[df['Attrition'] == 1][feature]\n",
    "    attrition_no = df[df['Attrition'] == 0][feature]\n",
    "\n",
    "    t_stat, p_value = ttest_ind(attrition_yes, attrition_no)\n",
    "\n",
    "    print(f\"T-Test for {feature} and Attrition:\")\n",
    "    print(f\"T-Stat: {t_stat}, P-Value: {p_value}\")\n",
    "    if p_value < 0.05:\n",
    "        print(f\"The difference in {feature} means between Attrition: Yes and Attrition: No is statistically significant.\")\n",
    "    else:\n",
    "        print(f\"The difference in {feature} means between Attrition: Yes and Attrition: No is not statistically significant.\")\n",
    "    print()\n"
   ]
  },
  {
   "cell_type": "code",
   "execution_count": null,
   "id": "3a39dea9",
   "metadata": {},
   "outputs": [],
   "source": [
    "# Calculate attrition rates for Overtime scenarios\n",
    "scenarios = {\n",
    "    'OverTime: Yes': {'Attrition': 1, 'OverTime': 1},\n",
    "    'OverTime: No': {'Attrition': 1, 'OverTime': 0},\n",
    "}\n",
    "\n",
    "for scenario, conditions in scenarios.items():\n",
    "    attrition_condition = (df['Attrition'] == conditions['Attrition']) & (df['OverTime'] == conditions['OverTime'])\n",
    "    total_attrition = df[attrition_condition]['Attrition'].count()\n",
    "    average_employees = df[df['OverTime'] == conditions['OverTime']]['Attrition'].count()\n",
    "    attrition_rate = total_attrition / average_employees\n",
    "    print(f\"Attrition Rate for {scenario}: {attrition_rate:.8%}\")"
   ]
  },
  {
   "cell_type": "code",
   "execution_count": null,
   "id": "fb0bac2e",
   "metadata": {},
   "outputs": [],
   "source": [
    "# Calculate attrition rates for different MaritalStatus scenarios\n",
    "scenarios = {\n",
    "    'BusinessTravel: no_travel': {'Attrition': 1, 'BusinessTravel': 0},\n",
    "    'BusinessTravel: rare_travel': {'Attrition': 1, 'BusinessTravel': 1},\n",
    "    'BusinessTravel: frequent travel': {'Attrition': 1, 'BusinessTravel': 2},\n",
    "}\n",
    "\n",
    "for scenario, conditions in scenarios.items():\n",
    "    attrition_condition = (df['Attrition'] == conditions['Attrition']) & (df['BusinessTravel'] == conditions['BusinessTravel'])\n",
    "    total_attrition = df[attrition_condition]['Attrition'].count() \n",
    "    average_employees = df[df['BusinessTravel'] == conditions['BusinessTravel']]['Attrition'].count()\n",
    "    attrition_rate = total_attrition / average_employees\n",
    "    print(f\"Attrition Rate for {scenario}: {attrition_rate:.8%}\")"
   ]
  },
  {
   "cell_type": "code",
   "execution_count": null,
   "id": "07a9eaad",
   "metadata": {},
   "outputs": [],
   "source": [
    "# Calculate attrition rates for different MaritalStatus scenarios\n",
    "scenarios = {\n",
    "    'MaritalStatus: Single': {'Attrition': 1, 'MaritalStatus': 1},\n",
    "    'MaritalStatus: Maried': {'Attrition': 1, 'MaritalStatus': 2},\n",
    "    'MaritalStatus: Divorced': {'Attrition': 1, 'MaritalStatus': 3},\n",
    "}\n",
    "\n",
    "for scenario, conditions in scenarios.items():\n",
    "    attrition_condition = (df['Attrition'] == conditions['Attrition']) & (df['MaritalStatus'] == conditions['MaritalStatus'])\n",
    "    total_attrition = df[attrition_condition]['Attrition'].count()\n",
    "    average_employees = df[df['MaritalStatus'] == conditions['MaritalStatus']]['Attrition'].count()\n",
    "    attrition_rate = total_attrition / average_employees\n",
    "    print(f\"Attrition Rate for {scenario}: {attrition_rate:.8%}\")"
   ]
  },
  {
   "cell_type": "code",
   "execution_count": null,
   "id": "4288baa1",
   "metadata": {},
   "outputs": [],
   "source": [
    "# Calculate attrition rates for different JobSatisfaction scenarios\n",
    "scenarios = {\n",
    "    'JobSatisfaction: 1': {'Attrition': 1, 'JobSatisfaction': 1},\n",
    "    'JobSatisfaction: 2': {'Attrition': 1, 'JobSatisfaction': 2},\n",
    "    'JobSatisfaction: 3': {'Attrition': 1, 'JobSatisfaction': 3},\n",
    "    'JobSatisfaction: 4': {'Attrition': 1, 'JobSatisfaction': 4},\n",
    "}\n",
    "\n",
    "for scenario, conditions in scenarios.items():\n",
    "    attrition_condition = (df['Attrition'] == conditions['Attrition']) & (df['JobSatisfaction'] == conditions['JobSatisfaction'])\n",
    "    total_attrition = df[attrition_condition]['Attrition'].count()\n",
    "    average_employees = df[df['JobSatisfaction'] == conditions['JobSatisfaction']]['Attrition'].count()\n",
    "    attrition_rate = total_attrition / average_employees\n",
    "    print(f\"Attrition Rate for {scenario}: {attrition_rate:.8%}\")"
   ]
  },
  {
   "cell_type": "code",
   "execution_count": null,
   "id": "ad300456",
   "metadata": {},
   "outputs": [],
   "source": [
    "# Calculate attrition rates for different PerformanceRating scenarios\n",
    "scenarios = {\n",
    "    'PerformanceRating: 3': {'Attrition': 1, 'PerformanceRating': 3},\n",
    "    'PerformanceRating: 4': {'Attrition': 1, 'PerformanceRating': 4},\n",
    "    \n",
    "}\n",
    "\n",
    "for scenario, conditions in scenarios.items():\n",
    "    attrition_condition = (df['Attrition'] == conditions['Attrition']) & (df['PerformanceRating'] == conditions['PerformanceRating'])\n",
    "    total_attrition = df[attrition_condition]['Attrition'].count()\n",
    "    average_employees = df[df['PerformanceRating'] == conditions['PerformanceRating']]['Attrition'].count()\n",
    "    attrition_rate = total_attrition / average_employees\n",
    "    print(f\"Attrition Rate for {scenario}: {attrition_rate:.8%}\")"
   ]
  },
  {
   "cell_type": "code",
   "execution_count": null,
   "id": "65bb343f",
   "metadata": {},
   "outputs": [],
   "source": [
    "# So people who are single are most likely searching for other opportunities, but maried and divorced are looking for more stability."
   ]
  },
  {
   "cell_type": "code",
   "execution_count": null,
   "id": "5a713eec",
   "metadata": {},
   "outputs": [],
   "source": [
    "# Define age categories\n",
    "age_bins = [0, 25, 40, 100]\n",
    "age_labels = ['Under 25', '25-40', 'Over 40']\n",
    "\n",
    "# Add 'AgeCategory' column \n",
    "df['AgeCategory'] = pd.cut(df['Age'], bins=age_bins, labels=age_labels, right=False)\n",
    "\n",
    "# Calculate attrition rates for different age categories\n",
    "scenarios = {\n",
    "    'AgeCategory: Under 25': {'Attrition': 1, 'AgeCategory': 'Under 25'},\n",
    "    'AgeCategory: 25-40': {'Attrition': 1, 'AgeCategory': '25-40'},\n",
    "    'AgeCategory: Over 40': {'Attrition': 1, 'AgeCategory': 'Over 40'},\n",
    "}\n",
    "\n",
    "for scenario, conditions in scenarios.items():\n",
    "    attrition_condition = (df['Attrition'] == conditions['Attrition']) & (df['AgeCategory'] == conditions['AgeCategory'])\n",
    "    total_attrition = df[attrition_condition]['Attrition'].count()\n",
    "    average_employees = df[df['AgeCategory'] == conditions['AgeCategory']]['Attrition'].count()\n",
    "    attrition_rate = total_attrition / average_employees\n",
    "    print(f\"Attrition Rate for {scenario}: {attrition_rate:.8%}\")\n"
   ]
  },
  {
   "cell_type": "code",
   "execution_count": null,
   "id": "5bd014c6",
   "metadata": {},
   "outputs": [],
   "source": [
    "# Define age categories\n",
    "age_bins = [0, 10, 20, 30]\n",
    "age_labels = ['Under10', '10-20', 'Over20']\n",
    "\n",
    "# Add 'AgeCategory' column \n",
    "df['DistanceFromHomeCategories'] = pd.cut(df['DistanceFromHome'], bins=age_bins, labels=age_labels, right=False)\n",
    "\n",
    "# Calculate attrition rates for different age categories\n",
    "scenarios = {\n",
    "    'DistanceFromHomeCategories: Under 10': {'Attrition': 1, 'DistanceFromHomeCategories': 'Under10'},\n",
    "    'DistanceFromHomeCategories: 10-20': {'Attrition': 1, 'DistanceFromHomeCategories': '10-20'},\n",
    "    'DistanceFromHomeCategories: Over 20': {'Attrition': 1, 'DistanceFromHomeCategories': 'Over20'},\n",
    "}\n",
    "\n",
    "for scenario, conditions in scenarios.items():\n",
    "    attrition_condition = (df['Attrition'] == conditions['Attrition']) & (df['DistanceFromHomeCategories'] == conditions['DistanceFromHomeCategories'])\n",
    "    total_attrition = df[attrition_condition]['Attrition'].count()\n",
    "    average_employees = df[df['DistanceFromHomeCategories'] == conditions['DistanceFromHomeCategories']]['Attrition'].count()\n",
    "    attrition_rate = total_attrition / average_employees\n",
    "    print(f\"Attrition Rate for {scenario}: {attrition_rate:.8%}\")\n"
   ]
  },
  {
   "cell_type": "code",
   "execution_count": null,
   "id": "cee298dd",
   "metadata": {},
   "outputs": [],
   "source": []
  },
  {
   "cell_type": "code",
   "execution_count": null,
   "id": "acdaf39e",
   "metadata": {},
   "outputs": [],
   "source": []
  },
  {
   "cell_type": "code",
   "execution_count": null,
   "id": "51aea4d4",
   "metadata": {},
   "outputs": [],
   "source": [
    "age_bins = [0, 10000, 20000, 30000]\n",
    "age_labels = ['Under10000', '10000-20000', 'Over20000']\n",
    "\n",
    "# Add 'AgeCategory' column \n",
    "df['MonthlyRateCategories'] = pd.cut(df['MonthlyRate'], bins=age_bins, labels=age_labels, right=False)\n",
    "\n",
    "# Calculate attrition rates for different age categories\n",
    "scenarios = {\n",
    "    'MonthlyRateCategories: Under 10000': {'Attrition': 1, 'MonthlyRateCategories': 'Under10000'},\n",
    "    'MonthlyRateCategories: 1000-20000': {'Attrition': 1, 'MonthlyRateCategories': '10000-20000'},\n",
    "    'MonthlyRateCategories: Over 20000': {'Attrition': 1, 'MonthlyRateCategories': 'Over20000'},\n",
    "}\n",
    "\n",
    "for scenario, conditions in scenarios.items():\n",
    "    attrition_condition = (df['Attrition'] == conditions['Attrition']) & (df['MonthlyRateCategories'] == conditions['MonthlyRateCategories'])\n",
    "    total_attrition = df[attrition_condition]['Attrition'].count()\n",
    "    average_employees = df[df['MonthlyRateCategories'] == conditions['MonthlyRateCategories']]['Attrition'].count()\n",
    "    attrition_rate = total_attrition / average_employees\n",
    "    print(f\"Attrition Rate for {scenario}: {attrition_rate:.8%}\")"
   ]
  },
  {
   "cell_type": "code",
   "execution_count": null,
   "id": "dbd087c2",
   "metadata": {},
   "outputs": [],
   "source": [
    "# Function 2: Count Plot\n",
    "plt.figure(figsize=(8, 5))\n",
    "sns.countplot(x='HourlyRateCategories', data=df)\n",
    "plt.title('MonthlyRate Distribution')\n",
    "plt.show()"
   ]
  },
  {
   "cell_type": "code",
   "execution_count": null,
   "id": "297198d3",
   "metadata": {},
   "outputs": [],
   "source": [
    "# the age Attrition Rate classification empower that young people are looking for better opportunities: \n",
    "#The question is why? Let's look for reasons of attrition"
   ]
  },
  {
   "cell_type": "code",
   "execution_count": null,
   "id": "c5f2e408",
   "metadata": {},
   "outputs": [],
   "source": []
  },
  {
   "cell_type": "code",
   "execution_count": null,
   "id": "c9103d7c",
   "metadata": {},
   "outputs": [],
   "source": []
  },
  {
   "cell_type": "code",
   "execution_count": null,
   "id": "356af34b",
   "metadata": {},
   "outputs": [],
   "source": []
  },
  {
   "cell_type": "code",
   "execution_count": null,
   "id": "ca440263",
   "metadata": {},
   "outputs": [],
   "source": [
    "# Calculate attrition rates for different scenarios\n",
    "scenarios = {\n",
    "    'OverTime: Yes': {'Attrition': 1, 'OverTime': 1},\n",
    "    'OverTime: No': {'Attrition': 1, 'OverTime': 0},\n",
    "    # Add more scenarios as needed\n",
    "}\n",
    "\n",
    "for scenario, conditions in scenarios.items():\n",
    "    attrition_condition = (df['Attrition'] == conditions['Attrition']) & (df['OverTime'] == conditions['OverTime'])\n",
    "    total_attrition = df[attrition_condition]['Attrition'].count()\n",
    "    average_employees = df[df['OverTime'] == conditions['OverTime']]['Attrition'].count()\n",
    "    attrition_rate = total_attrition / average_employees\n",
    "    print(f\"Attrition Rate for {scenario}: {attrition_rate:.8%}\")"
   ]
  },
  {
   "cell_type": "code",
   "execution_count": null,
   "id": "1b1083e3",
   "metadata": {},
   "outputs": [],
   "source": [
    "\n",
    "# Function 1: Bar Plot\n",
    "plt.figure(figsize=(12, 6))\n",
    "sns.barplot(x='Department', y='MonthlyIncome', data=df)\n",
    "plt.title('Monthly Income by Department')\n",
    "plt.show()\n",
    "\n"
   ]
  },
  {
   "cell_type": "code",
   "execution_count": null,
   "id": "6c4c8d10",
   "metadata": {
    "scrolled": true
   },
   "outputs": [],
   "source": [
    "# Function 1: Bar Plot\n",
    "plt.figure(figsize=(20, 6))\n",
    "sns.barplot(x='JobRole', y='MonthlyIncome', data=df)\n",
    "plt.title('Monthly Income by JobRole')\n",
    "plt.show()\n"
   ]
  },
  {
   "cell_type": "code",
   "execution_count": null,
   "id": "bfc1f5a8",
   "metadata": {},
   "outputs": [],
   "source": [
    "\n",
    "# Function 1: Bar Plot\n",
    "plt.figure(figsize=(20, 6))\n",
    "sns.boxplot(x='BusinessTravel', y='JobRole', data=df)\n",
    "plt.title('Monthly Income by JobRole')\n",
    "plt.show()\n"
   ]
  },
  {
   "cell_type": "code",
   "execution_count": null,
   "id": "175d283b",
   "metadata": {
    "scrolled": true
   },
   "outputs": [],
   "source": [
    "plt.figure(figsize=(10, 6))\n",
    "sns.boxplot(x='JobRole', y='MonthlyIncome', data=df)\n",
    "plt.title('Age Distribution by Education Level')\n",
    "plt.show()\n"
   ]
  },
  {
   "cell_type": "code",
   "execution_count": null,
   "id": "667c0a65",
   "metadata": {},
   "outputs": [],
   "source": [
    "df2 = df[['Attrition','JobRole', 'BusinessTravel']]\n",
    "\n",
    "sns.pairplot(df2, hue=\"Attrition\", diag_kind=\"kde\")\n",
    "plt.show()\n"
   ]
  },
  {
   "cell_type": "code",
   "execution_count": null,
   "id": "65621f41",
   "metadata": {},
   "outputs": [],
   "source": [
    "# Function 2: Count Plot\n",
    "plt.figure(figsize=(8, 5))\n",
    "sns.countplot(x='DistanceFromHome', data=df)\n",
    "plt.title('DistanceFromHome Distribution')\n",
    "plt.show()\n"
   ]
  },
  {
   "cell_type": "code",
   "execution_count": null,
   "id": "d4ad9a2f",
   "metadata": {
    "scrolled": true
   },
   "outputs": [],
   "source": [
    "df2 = df[['Attrition','DistanceFromHome']]\n",
    "\n",
    "sns.pairplot(df2, hue=\"Attrition\", diag_kind=\"kde\")\n",
    "plt.show()\n"
   ]
  },
  {
   "cell_type": "code",
   "execution_count": null,
   "id": "40933aff",
   "metadata": {},
   "outputs": [],
   "source": [
    "df2 = df[['Attrition','MonthlyRate', 'MonthlyIncome']]\n",
    "\n",
    "sns.pairplot(df2, hue=\"Attrition\", diag_kind=\"kde\")\n",
    "plt.show()"
   ]
  },
  {
   "cell_type": "code",
   "execution_count": null,
   "id": "2a76a9e6",
   "metadata": {},
   "outputs": [],
   "source": [
    "# Function 3: Box Plot\n",
    "plt.figure(figsize=(10, 6))\n",
    "sns.boxplot(x='MonthlyRate', y='MonthlyIncome', data=df)\n",
    "plt.title('Age Distribution by Education Level')\n",
    "plt.show()\n"
   ]
  },
  {
   "cell_type": "code",
   "execution_count": null,
   "id": "27790a05",
   "metadata": {},
   "outputs": [],
   "source": [
    "\n",
    "# Function 3: Box Plot\n",
    "plt.figure(figsize=(10, 6))\n",
    "sns.boxplot(x='WorkLifeBalance', y='DistanceFromHome', data=df)\n",
    "plt.title('Age Distribution by Education Level')\n",
    "plt.show()\n"
   ]
  },
  {
   "cell_type": "code",
   "execution_count": null,
   "id": "ccee8852",
   "metadata": {},
   "outputs": [],
   "source": [
    "plt.figure(figsize=(10, 6))\n",
    "sns.boxplot(x='PerformanceRating', y='MonthlyIncome', data=df)\n",
    "plt.title('Age Distribution by Education Level')\n",
    "plt.show()\n"
   ]
  },
  {
   "cell_type": "code",
   "execution_count": null,
   "id": "b169f30f",
   "metadata": {
    "scrolled": true
   },
   "outputs": [],
   "source": [
    "pd.crosstab(df['PerformanceRating'],df['Attrition']).plot(kind=\"bar\",figsize=(10,6))\n",
    "plt.title(\"Attrition vs PerformanceRating\")\n",
    "plt.xlabel(\"Stay/Left\")\n",
    "plt.ylabel(\"No of people who left based on PerformanceRating\")\n",
    "plt.legend([\"Stay\",\"left\"])\n",
    "plt.xticks(rotation=0)"
   ]
  },
  {
   "cell_type": "code",
   "execution_count": null,
   "id": "0e6980cf",
   "metadata": {},
   "outputs": [],
   "source": [
    "pd.crosstab(df['JobSatisfaction'],df['Attrition']).plot(kind=\"bar\",figsize=(10,6))\n",
    "plt.title(\"Attrition vs JobSatisfaction   \")\n",
    "plt.xlabel(\"Stay/Left\")\n",
    "plt.ylabel(\"No of people who left based on JobSatisfaction   \")\n",
    "plt.legend([\"Stay\",\"left\"])\n",
    "plt.xticks(rotation=0)"
   ]
  },
  {
   "cell_type": "code",
   "execution_count": null,
   "id": "24030ae9",
   "metadata": {},
   "outputs": [],
   "source": [
    "pd.crosstab(df['YearsSinceLastPromotion'],df['Attrition']).plot(kind=\"bar\",figsize=(10,6))\n",
    "plt.title(\"Attrition vs YearsSinceLastPromotion   \")\n",
    "plt.xlabel(\"Stay/Left\")\n",
    "plt.ylabel(\"No of people who left based on YearsSinceLastPromotion   \")\n",
    "plt.legend([\"Stay\",\"left\"])\n",
    "plt.xticks(rotation=0)"
   ]
  },
  {
   "cell_type": "code",
   "execution_count": null,
   "id": "0bd10646",
   "metadata": {},
   "outputs": [],
   "source": [
    "pd.crosstab(df['EnvironmentSatisfaction'],df['Attrition']).plot(kind=\"bar\",figsize=(10,6))\n",
    "plt.title(\"Attrition vs EnvironmentSatisfaction    \")\n",
    "plt.xlabel(\"Stay/Left\")\n",
    "plt.ylabel(\"No of people who left based on EnvironmentSatisfaction    \")\n",
    "plt.legend([\"Stay\",\"left\"])\n",
    "plt.xticks(rotation=0)"
   ]
  },
  {
   "cell_type": "code",
   "execution_count": null,
   "id": "6690713d",
   "metadata": {},
   "outputs": [],
   "source": [
    "plt.figure(figsize=(12, 8))\n",
    "sns.boxplot(x='YearsSinceLastPromotion', y='MonthlyIncome', hue='Attrition', data=df)\n",
    "plt.title('Box Plot of MonthlyIncome by Years Since Last Promotion and Attrition')\n",
    "plt.show()"
   ]
  },
  {
   "cell_type": "code",
   "execution_count": null,
   "id": "28c2ac54",
   "metadata": {},
   "outputs": [],
   "source": [
    "plt.figure(figsize=(12, 8))\n",
    "sns.violinplot(x='MonthlyRate', y='MonthlyIncome', hue='Attrition', data=df, split=True, inner='quart', palette='Set1')\n",
    "plt.title('Relationship Between Age, Marital Status, and Attrition')\n",
    "plt.show()"
   ]
  },
  {
   "cell_type": "code",
   "execution_count": null,
   "id": "c18d27e9",
   "metadata": {},
   "outputs": [],
   "source": []
  }
 ],
 "metadata": {
  "kernelspec": {
   "display_name": "Python 3 (ipykernel)",
   "language": "python",
   "name": "python3"
  },
  "language_info": {
   "codemirror_mode": {
    "name": "ipython",
    "version": 3
   },
   "file_extension": ".py",
   "mimetype": "text/x-python",
   "name": "python",
   "nbconvert_exporter": "python",
   "pygments_lexer": "ipython3",
   "version": "3.11.1"
  }
 },
 "nbformat": 4,
 "nbformat_minor": 5
}
